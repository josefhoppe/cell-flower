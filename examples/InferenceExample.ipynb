{
 "cells": [
  {
   "cell_type": "code",
   "execution_count": null,
   "metadata": {},
   "outputs": [],
   "source": [
    "import networkx as nx\n",
    "import cell_flower as cf\n",
    "import pandas as pd\n",
    "import numpy as np"
   ]
  },
  {
   "cell_type": "code",
   "execution_count": null,
   "metadata": {},
   "outputs": [],
   "source": [
    "# Initialize underlying graph\n",
    "CC = cf.CellComplex(5, [(0,1), (1,2), (2,3), (0,3), (3,4), (0,4)])\n",
    "G = nx.from_edgelist(CC.get_cells(1))\n",
    "\n",
    "embed = nx.spectral_layout(G)\n",
    "nx.draw(G, embed)\n",
    "_ = nx.draw_networkx_labels(G, embed, font_color='white')"
   ]
  },
  {
   "cell_type": "code",
   "execution_count": null,
   "metadata": {},
   "outputs": [],
   "source": [
    "# Cell boundary maps expressed as pd.Series\n",
    "\n",
    "# Cell (0,1,2,3)\n",
    "square_cell = pd.Series({\n",
    "        (0,1): 1,\n",
    "        (1,2): 1,\n",
    "        (2,3): 1,\n",
    "        (0,3): -1\n",
    "    }, index=G.edges).fillna(0).sort_index()\n",
    "\n",
    "# Cell (0,3,4)\n",
    "triangle_cell = pd.Series({\n",
    "        (0,3): 1,\n",
    "        (3,4): 1,\n",
    "        (0,4): -1\n",
    "    }, index=G.edges).fillna(0).sort_index()\n",
    "\n",
    "# Flows\n",
    "\n",
    "flow1 = square_cell * 1 - triangle_cell * .5\n",
    "flow2 = square_cell * .3 + triangle_cell * .6\n",
    "\n",
    "flows = np.array([flow1.to_numpy(), flow2.to_numpy()])"
   ]
  },
  {
   "cell_type": "code",
   "execution_count": null,
   "metadata": {},
   "outputs": [],
   "source": [
    "# Helper functions\n",
    "\n",
    "def graph_flow_to_weighted_digraph(G: nx.Graph, flow: pd.Series) -> nx.DiGraph:\n",
    "    D = nx.DiGraph()\n",
    "    D.add_nodes_from(G)\n",
    "    for u, v in G.edges:\n",
    "        f = flow[(u,v)]\n",
    "        if f > 0:\n",
    "            D.add_edge(u, v, flow=f)\n",
    "        else:\n",
    "            D.add_edge(v, u, flow=-f)\n",
    "    return D\n",
    "\n",
    "def plot_weight_digraph(D, **kwargs):\n",
    "    flow_map = nx.get_edge_attributes(D, 'flow')\n",
    "    nx.draw(D, embed, edgelist=[], **kwargs)\n",
    "    edges = [e for e in D.edges if flow_map[e] != 0]\n",
    "    widths = [flow_map[e] * 2 for e in edges]\n",
    "    nx.draw_networkx_edges(D, embed, edges, width=widths, **kwargs)\n",
    "    edges = [e for e in D.edges if flow_map[e] == 0]\n",
    "    nx.draw_networkx_edges(D, embed, edges, style='--', width=2, arrows=False)\n",
    "    _ = nx.draw_networkx_labels(G, embed, font_color='white')"
   ]
  },
  {
   "cell_type": "code",
   "execution_count": null,
   "metadata": {},
   "outputs": [],
   "source": [
    "# Visualization of the two flows\n",
    "plot_weight_digraph(graph_flow_to_weighted_digraph(G, flow1))"
   ]
  },
  {
   "cell_type": "code",
   "execution_count": null,
   "metadata": {},
   "outputs": [],
   "source": [
    "\n",
    "plot_weight_digraph(graph_flow_to_weighted_digraph(G, flow2))"
   ]
  },
  {
   "cell_type": "code",
   "execution_count": null,
   "metadata": {},
   "outputs": [],
   "source": [
    "CC_prime = cf.cell_inference_approximation(CC, flows, 2, 2, n_clusters=5)\n",
    "# Check to see the cells are correct\n",
    "CC_prime.get_cells(2)"
   ]
  }
 ],
 "metadata": {
  "kernelspec": {
   "display_name": "cell-inference",
   "language": "python",
   "name": "python3"
  },
  "language_info": {
   "codemirror_mode": {
    "name": "ipython",
    "version": 3
   },
   "file_extension": ".py",
   "mimetype": "text/x-python",
   "name": "python",
   "nbconvert_exporter": "python",
   "pygments_lexer": "ipython3",
   "version": "3.11.5"
  }
 },
 "nbformat": 4,
 "nbformat_minor": 2
}
